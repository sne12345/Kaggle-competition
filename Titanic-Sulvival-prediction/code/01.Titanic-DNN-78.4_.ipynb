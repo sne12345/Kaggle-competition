{
 "cells": [
  {
   "cell_type": "code",
   "execution_count": null,
   "metadata": {
    "colab": {
     "base_uri": "https://localhost:8080/"
    },
    "executionInfo": {
     "elapsed": 1310,
     "status": "error",
     "timestamp": 1616483221305,
     "user": {
      "displayName": "[20_H1048F]송나은",
      "photoUrl": "",
      "userId": "17991902901325955099"
     },
     "user_tz": -540
    },
    "id": "7sItgeFHHm9R",
    "outputId": "8fc06bcb-5052-41cd-bdc2-a65b9533f924"
   },
   "outputs": [
    {
     "name": "stderr",
     "output_type": "stream",
     "text": [
      "UsageError: unrecognized arguments: #쥬피터노트북에서 이미지 표시가능하게 하는 쥬피터노트북 매직함수\n"
     ]
    }
   ],
   "source": [
    "# 필수 라이브러리\n",
    "import pandas as pd\n",
    "import numpy as np\n",
    "import random\n",
    "import tensorflow as tf\n",
    "from sklearn import preprocessing\n",
    "import matplotlib.pyplot as plt\n",
    "import seaborn as sns   \n",
    "%matplotlib inline   #쥬피터노트북에서 이미지 표시가능하게 하는 쥬피터노트북 매직함수\n",
    "\n",
    "\n",
    "# 램덤 시드 고정\n",
    "SEED = 2021\n",
    "random.seed(SEED)\n",
    "np.random.seed(SEED)\n",
    "tf.random.set_seed(SEED)\n"
   ]
  },
  {
   "cell_type": "code",
   "execution_count": null,
   "metadata": {
    "colab": {
     "base_uri": "https://localhost:8080/"
    },
    "executionInfo": {
     "elapsed": 1406,
     "status": "ok",
     "timestamp": 1616483222630,
     "user": {
      "displayName": "[20_H1048F]송나은",
      "photoUrl": "",
      "userId": "17991902901325955099"
     },
     "user_tz": -540
    },
    "id": "pHo7ijBYHuGW",
    "outputId": "73893ea8-0717-4d28-8790-a6d2b22b6645"
   },
   "outputs": [
    {
     "name": "stdout",
     "output_type": "stream",
     "text": [
      "Drive already mounted at /content/drive; to attempt to forcibly remount, call drive.mount(\"/content/drive\", force_remount=True).\n"
     ]
    }
   ],
   "source": [
    "from google.colab import drive\n",
    "drive.mount('/content/drive')"
   ]
  },
  {
   "cell_type": "code",
   "execution_count": null,
   "metadata": {
    "colab": {
     "base_uri": "https://localhost:8080/",
     "height": 347
    },
    "executionInfo": {
     "elapsed": 1379,
     "status": "ok",
     "timestamp": 1616484626981,
     "user": {
      "displayName": "[20_H1048F]송나은",
      "photoUrl": "",
      "userId": "17991902901325955099"
     },
     "user_tz": -540
    },
    "id": "0mjHQPSEHs1h",
    "outputId": "34eab9f7-aec6-4e62-cb7d-f8f398a3a80d"
   },
   "outputs": [
    {
     "data": {
      "text/html": [
       "<div>\n",
       "<style scoped>\n",
       "    .dataframe tbody tr th:only-of-type {\n",
       "        vertical-align: middle;\n",
       "    }\n",
       "\n",
       "    .dataframe tbody tr th {\n",
       "        vertical-align: top;\n",
       "    }\n",
       "\n",
       "    .dataframe thead th {\n",
       "        text-align: right;\n",
       "    }\n",
       "</style>\n",
       "<table border=\"1\" class=\"dataframe\">\n",
       "  <thead>\n",
       "    <tr style=\"text-align: right;\">\n",
       "      <th></th>\n",
       "      <th>PassengerId</th>\n",
       "      <th>Pclass</th>\n",
       "      <th>Name</th>\n",
       "      <th>Sex</th>\n",
       "      <th>Age</th>\n",
       "      <th>SibSp</th>\n",
       "      <th>Parch</th>\n",
       "      <th>Ticket</th>\n",
       "      <th>Fare</th>\n",
       "      <th>Cabin</th>\n",
       "      <th>Embarked</th>\n",
       "    </tr>\n",
       "  </thead>\n",
       "  <tbody>\n",
       "    <tr>\n",
       "      <th>0</th>\n",
       "      <td>892</td>\n",
       "      <td>3</td>\n",
       "      <td>Kelly, Mr. James</td>\n",
       "      <td>male</td>\n",
       "      <td>34.5</td>\n",
       "      <td>0</td>\n",
       "      <td>0</td>\n",
       "      <td>330911</td>\n",
       "      <td>7.8292</td>\n",
       "      <td>NaN</td>\n",
       "      <td>Q</td>\n",
       "    </tr>\n",
       "    <tr>\n",
       "      <th>1</th>\n",
       "      <td>893</td>\n",
       "      <td>3</td>\n",
       "      <td>Wilkes, Mrs. James (Ellen Needs)</td>\n",
       "      <td>female</td>\n",
       "      <td>47.0</td>\n",
       "      <td>1</td>\n",
       "      <td>0</td>\n",
       "      <td>363272</td>\n",
       "      <td>7.0000</td>\n",
       "      <td>NaN</td>\n",
       "      <td>S</td>\n",
       "    </tr>\n",
       "    <tr>\n",
       "      <th>2</th>\n",
       "      <td>894</td>\n",
       "      <td>2</td>\n",
       "      <td>Myles, Mr. Thomas Francis</td>\n",
       "      <td>male</td>\n",
       "      <td>62.0</td>\n",
       "      <td>0</td>\n",
       "      <td>0</td>\n",
       "      <td>240276</td>\n",
       "      <td>9.6875</td>\n",
       "      <td>NaN</td>\n",
       "      <td>Q</td>\n",
       "    </tr>\n",
       "    <tr>\n",
       "      <th>3</th>\n",
       "      <td>895</td>\n",
       "      <td>3</td>\n",
       "      <td>Wirz, Mr. Albert</td>\n",
       "      <td>male</td>\n",
       "      <td>27.0</td>\n",
       "      <td>0</td>\n",
       "      <td>0</td>\n",
       "      <td>315154</td>\n",
       "      <td>8.6625</td>\n",
       "      <td>NaN</td>\n",
       "      <td>S</td>\n",
       "    </tr>\n",
       "    <tr>\n",
       "      <th>4</th>\n",
       "      <td>896</td>\n",
       "      <td>3</td>\n",
       "      <td>Hirvonen, Mrs. Alexander (Helga E Lindqvist)</td>\n",
       "      <td>female</td>\n",
       "      <td>22.0</td>\n",
       "      <td>1</td>\n",
       "      <td>1</td>\n",
       "      <td>3101298</td>\n",
       "      <td>12.2875</td>\n",
       "      <td>NaN</td>\n",
       "      <td>S</td>\n",
       "    </tr>\n",
       "    <tr>\n",
       "      <th>5</th>\n",
       "      <td>897</td>\n",
       "      <td>3</td>\n",
       "      <td>Svensson, Mr. Johan Cervin</td>\n",
       "      <td>male</td>\n",
       "      <td>14.0</td>\n",
       "      <td>0</td>\n",
       "      <td>0</td>\n",
       "      <td>7538</td>\n",
       "      <td>9.2250</td>\n",
       "      <td>NaN</td>\n",
       "      <td>S</td>\n",
       "    </tr>\n",
       "    <tr>\n",
       "      <th>6</th>\n",
       "      <td>898</td>\n",
       "      <td>3</td>\n",
       "      <td>Connolly, Miss. Kate</td>\n",
       "      <td>female</td>\n",
       "      <td>30.0</td>\n",
       "      <td>0</td>\n",
       "      <td>0</td>\n",
       "      <td>330972</td>\n",
       "      <td>7.6292</td>\n",
       "      <td>NaN</td>\n",
       "      <td>Q</td>\n",
       "    </tr>\n",
       "    <tr>\n",
       "      <th>7</th>\n",
       "      <td>899</td>\n",
       "      <td>2</td>\n",
       "      <td>Caldwell, Mr. Albert Francis</td>\n",
       "      <td>male</td>\n",
       "      <td>26.0</td>\n",
       "      <td>1</td>\n",
       "      <td>1</td>\n",
       "      <td>248738</td>\n",
       "      <td>29.0000</td>\n",
       "      <td>NaN</td>\n",
       "      <td>S</td>\n",
       "    </tr>\n",
       "    <tr>\n",
       "      <th>8</th>\n",
       "      <td>900</td>\n",
       "      <td>3</td>\n",
       "      <td>Abrahim, Mrs. Joseph (Sophie Halaut Easu)</td>\n",
       "      <td>female</td>\n",
       "      <td>18.0</td>\n",
       "      <td>0</td>\n",
       "      <td>0</td>\n",
       "      <td>2657</td>\n",
       "      <td>7.2292</td>\n",
       "      <td>NaN</td>\n",
       "      <td>C</td>\n",
       "    </tr>\n",
       "    <tr>\n",
       "      <th>9</th>\n",
       "      <td>901</td>\n",
       "      <td>3</td>\n",
       "      <td>Davies, Mr. John Samuel</td>\n",
       "      <td>male</td>\n",
       "      <td>21.0</td>\n",
       "      <td>2</td>\n",
       "      <td>0</td>\n",
       "      <td>A/4 48871</td>\n",
       "      <td>24.1500</td>\n",
       "      <td>NaN</td>\n",
       "      <td>S</td>\n",
       "    </tr>\n",
       "  </tbody>\n",
       "</table>\n",
       "</div>"
      ],
      "text/plain": [
       "   PassengerId  Pclass  ... Cabin Embarked\n",
       "0          892       3  ...   NaN        Q\n",
       "1          893       3  ...   NaN        S\n",
       "2          894       2  ...   NaN        Q\n",
       "3          895       3  ...   NaN        S\n",
       "4          896       3  ...   NaN        S\n",
       "5          897       3  ...   NaN        S\n",
       "6          898       3  ...   NaN        Q\n",
       "7          899       2  ...   NaN        S\n",
       "8          900       3  ...   NaN        C\n",
       "9          901       3  ...   NaN        S\n",
       "\n",
       "[10 rows x 11 columns]"
      ]
     },
     "execution_count": 271,
     "metadata": {
      "tags": []
     },
     "output_type": "execute_result"
    }
   ],
   "source": [
    "# 데이터 확인\n",
    "drive_path = '/content/drive/MyDrive/Kaggle_Study/titanic/'\n",
    "\n",
    "train = pd.read_csv(drive_path + 'train.csv')\n",
    "test =  pd.read_csv(drive_path + 'test.csv')\n",
    "\n",
    "test.head(10)"
   ]
  },
  {
   "cell_type": "code",
   "execution_count": null,
   "metadata": {
    "colab": {
     "base_uri": "https://localhost:8080/"
    },
    "executionInfo": {
     "elapsed": 1428,
     "status": "ok",
     "timestamp": 1616484656958,
     "user": {
      "displayName": "[20_H1048F]송나은",
      "photoUrl": "",
      "userId": "17991902901325955099"
     },
     "user_tz": -540
    },
    "id": "VLRLClQpguwY",
    "outputId": "b3df24f1-91e3-49de-eb44-2d39a410cafa"
   },
   "outputs": [
    {
     "data": {
      "text/plain": [
       "C    59\n",
       "B    47\n",
       "D    33\n",
       "E    32\n",
       "A    15\n",
       "F    13\n",
       "G     4\n",
       "T     1\n",
       "Name: Cabin, dtype: int64"
      ]
     },
     "execution_count": 272,
     "metadata": {
      "tags": []
     },
     "output_type": "execute_result"
    }
   ],
   "source": [
    "tmp = train['Cabin'].str[:1]\n",
    "tmp.value_counts()"
   ]
  },
  {
   "cell_type": "code",
   "execution_count": null,
   "metadata": {
    "id": "iuWAJNVWJIGn"
   },
   "outputs": [],
   "source": [
    "def get_name_category(name):\n",
    "  cat = ''\n",
    "  if 'Mr.' in name: cat = 'Mr'\n",
    "  elif 'Mrs.' in name: cat = 'Mrs'\n",
    "  elif 'Miss.' in name: cat = 'Miss'\n",
    "  elif 'Master.' in name: cat = 'Master'\n",
    "  else : cat = 'else'\n",
    "\n",
    "  return cat\n",
    "\n",
    "def get_name(df):\n",
    "    plt.figure(figsize=(10,6))\n",
    "\n",
    "    group_names = ['Mr', 'Mrs', 'Miss', 'Master', 'else']\n",
    "    df['name_cat'] = df['Name'].apply(lambda x : get_name_category(x))\n",
    "    return df\n",
    "\n",
    "\n",
    "def fillna(df):\n",
    "    \n",
    "  df[\"Age\"].fillna(\n",
    "      df.groupby(\"name_cat\")[\"Age\"].transform(\"mean\"), inplace=True\n",
    "  )\n",
    "  \n",
    "  df['Cabin'].fillna('N', inplace=True)\n",
    "  df['Embarked'].fillna('N', inplace=True)\n",
    "  return df\n",
    "\n",
    "# 불필요한 속성 제거\n",
    "def drop_features(df):\n",
    "  df.drop(['PassengerId', 'Name', 'Ticket'], axis=1, inplace=True)\n",
    "  return df\n",
    "\n",
    "def format_features(df):\n",
    "  df['Cabin'] = df['Cabin'].str[:1]\n",
    "  features = ['Cabin', 'Sex', 'Embarked', 'name_cat']\n",
    "  for feature in features:\n",
    "    le = preprocessing.LabelEncoder()\n",
    "    le = le.fit(df[feature])\n",
    "    df[feature] = le.transform(df[feature])\n",
    "  return df\n",
    "\n",
    "def format_features_drop_cabin(df):\n",
    "  df = df.drop([\"Cabin\",\"SibSp\",\"Parch\"], axis=1)\n",
    "  features = ['Sex', 'Embarked', 'name_cat']\n",
    "  for feature in features:\n",
    "    le = preprocessing.LabelEncoder()\n",
    "    le = le.fit(df[feature])\n",
    "    df[feature] = le.transform(df[feature])\n",
    "  return df\n",
    "\n",
    "def transform_features(df):\n",
    "  df = get_name(df)\n",
    "  df = fillna(df)\n",
    "  df = drop_features(df)\n",
    "  df = format_features(df)\n",
    "  return df"
   ]
  },
  {
   "cell_type": "code",
   "execution_count": null,
   "metadata": {
    "colab": {
     "base_uri": "https://localhost:8080/",
     "height": 50
    },
    "executionInfo": {
     "elapsed": 1052,
     "status": "ok",
     "timestamp": 1616484658588,
     "user": {
      "displayName": "[20_H1048F]송나은",
      "photoUrl": "",
      "userId": "17991902901325955099"
     },
     "user_tz": -540
    },
    "id": "CJsrmR3FJkBc",
    "outputId": "435e9e1c-7f49-4343-e3ff-9b0c4ac363ef"
   },
   "outputs": [
    {
     "data": {
      "text/plain": [
       "<Figure size 720x432 with 0 Axes>"
      ]
     },
     "metadata": {
      "tags": []
     },
     "output_type": "display_data"
    },
    {
     "data": {
      "text/plain": [
       "<Figure size 720x432 with 0 Axes>"
      ]
     },
     "metadata": {
      "tags": []
     },
     "output_type": "display_data"
    }
   ],
   "source": [
    "train = transform_features(train)\n",
    "test = transform_features(test)"
   ]
  },
  {
   "cell_type": "code",
   "execution_count": null,
   "metadata": {
    "colab": {
     "base_uri": "https://localhost:8080/",
     "height": 197
    },
    "executionInfo": {
     "elapsed": 1283,
     "status": "ok",
     "timestamp": 1616484660316,
     "user": {
      "displayName": "[20_H1048F]송나은",
      "photoUrl": "",
      "userId": "17991902901325955099"
     },
     "user_tz": -540
    },
    "id": "tEITpn9kiDPo",
    "outputId": "2252fa87-75ef-44d9-bd5d-5bf71a733f19"
   },
   "outputs": [
    {
     "data": {
      "text/html": [
       "<div>\n",
       "<style scoped>\n",
       "    .dataframe tbody tr th:only-of-type {\n",
       "        vertical-align: middle;\n",
       "    }\n",
       "\n",
       "    .dataframe tbody tr th {\n",
       "        vertical-align: top;\n",
       "    }\n",
       "\n",
       "    .dataframe thead th {\n",
       "        text-align: right;\n",
       "    }\n",
       "</style>\n",
       "<table border=\"1\" class=\"dataframe\">\n",
       "  <thead>\n",
       "    <tr style=\"text-align: right;\">\n",
       "      <th></th>\n",
       "      <th>Survived</th>\n",
       "      <th>Pclass</th>\n",
       "      <th>Sex</th>\n",
       "      <th>Age</th>\n",
       "      <th>SibSp</th>\n",
       "      <th>Parch</th>\n",
       "      <th>Fare</th>\n",
       "      <th>Cabin</th>\n",
       "      <th>Embarked</th>\n",
       "      <th>name_cat</th>\n",
       "    </tr>\n",
       "  </thead>\n",
       "  <tbody>\n",
       "    <tr>\n",
       "      <th>0</th>\n",
       "      <td>0</td>\n",
       "      <td>3</td>\n",
       "      <td>1</td>\n",
       "      <td>22.0</td>\n",
       "      <td>1</td>\n",
       "      <td>0</td>\n",
       "      <td>7.2500</td>\n",
       "      <td>7</td>\n",
       "      <td>3</td>\n",
       "      <td>2</td>\n",
       "    </tr>\n",
       "    <tr>\n",
       "      <th>1</th>\n",
       "      <td>1</td>\n",
       "      <td>1</td>\n",
       "      <td>0</td>\n",
       "      <td>38.0</td>\n",
       "      <td>1</td>\n",
       "      <td>0</td>\n",
       "      <td>71.2833</td>\n",
       "      <td>2</td>\n",
       "      <td>0</td>\n",
       "      <td>3</td>\n",
       "    </tr>\n",
       "    <tr>\n",
       "      <th>2</th>\n",
       "      <td>1</td>\n",
       "      <td>3</td>\n",
       "      <td>0</td>\n",
       "      <td>26.0</td>\n",
       "      <td>0</td>\n",
       "      <td>0</td>\n",
       "      <td>7.9250</td>\n",
       "      <td>7</td>\n",
       "      <td>3</td>\n",
       "      <td>1</td>\n",
       "    </tr>\n",
       "    <tr>\n",
       "      <th>3</th>\n",
       "      <td>1</td>\n",
       "      <td>1</td>\n",
       "      <td>0</td>\n",
       "      <td>35.0</td>\n",
       "      <td>1</td>\n",
       "      <td>0</td>\n",
       "      <td>53.1000</td>\n",
       "      <td>2</td>\n",
       "      <td>3</td>\n",
       "      <td>3</td>\n",
       "    </tr>\n",
       "    <tr>\n",
       "      <th>4</th>\n",
       "      <td>0</td>\n",
       "      <td>3</td>\n",
       "      <td>1</td>\n",
       "      <td>35.0</td>\n",
       "      <td>0</td>\n",
       "      <td>0</td>\n",
       "      <td>8.0500</td>\n",
       "      <td>7</td>\n",
       "      <td>3</td>\n",
       "      <td>2</td>\n",
       "    </tr>\n",
       "  </tbody>\n",
       "</table>\n",
       "</div>"
      ],
      "text/plain": [
       "   Survived  Pclass  Sex   Age  ...     Fare  Cabin  Embarked  name_cat\n",
       "0         0       3    1  22.0  ...   7.2500      7         3         2\n",
       "1         1       1    0  38.0  ...  71.2833      2         0         3\n",
       "2         1       3    0  26.0  ...   7.9250      7         3         1\n",
       "3         1       1    0  35.0  ...  53.1000      2         3         3\n",
       "4         0       3    1  35.0  ...   8.0500      7         3         2\n",
       "\n",
       "[5 rows x 10 columns]"
      ]
     },
     "execution_count": 275,
     "metadata": {
      "tags": []
     },
     "output_type": "execute_result"
    }
   ],
   "source": [
    "train.head()"
   ]
  },
  {
   "cell_type": "code",
   "execution_count": null,
   "metadata": {
    "colab": {
     "base_uri": "https://localhost:8080/",
     "height": 884
    },
    "executionInfo": {
     "elapsed": 3725,
     "status": "ok",
     "timestamp": 1616484664392,
     "user": {
      "displayName": "[20_H1048F]송나은",
      "photoUrl": "",
      "userId": "17991902901325955099"
     },
     "user_tz": -540
    },
    "id": "V4WMCfO7gInw",
    "outputId": "2d04fd42-5112-474c-af22-30b47c71a93b"
   },
   "outputs": [
    {
     "data": {
      "text/plain": [
       "<matplotlib.axes._subplots.AxesSubplot at 0x7f490e2f6210>"
      ]
     },
     "execution_count": 276,
     "metadata": {
      "tags": []
     },
     "output_type": "execute_result"
    },
    {
     "data": {
      "image/png": "[encoded data removed]",
      "text/plain": [
       "<Figure size 1080x1080 with 2 Axes>"
      ]
     },
     "metadata": {
      "needs_background": "light",
      "tags": []
     },
     "output_type": "display_data"
    }
   ],
   "source": [
    "plt.figure(figsize=(15,15))\n",
    "sns.heatmap(data = train.corr(), annot=True, \n",
    "fmt = '.2f', linewidths=.5, cmap='Blues')"
   ]
  },
  {
   "cell_type": "code",
   "execution_count": null,
   "metadata": {
    "colab": {
     "base_uri": "https://localhost:8080/",
     "height": 197
    },
    "executionInfo": {
     "elapsed": 905,
     "status": "ok",
     "timestamp": 1616484664960,
     "user": {
      "displayName": "[20_H1048F]송나은",
      "photoUrl": "",
      "userId": "17991902901325955099"
     },
     "user_tz": -540
    },
    "id": "wfdguStfJhfO",
    "outputId": "fe86ac12-ae36-4440-cfbf-a86e4969f6ff"
   },
   "outputs": [
    {
     "data": {
      "text/html": [
       "<div>\n",
       "<style scoped>\n",
       "    .dataframe tbody tr th:only-of-type {\n",
       "        vertical-align: middle;\n",
       "    }\n",
       "\n",
       "    .dataframe tbody tr th {\n",
       "        vertical-align: top;\n",
       "    }\n",
       "\n",
       "    .dataframe thead th {\n",
       "        text-align: right;\n",
       "    }\n",
       "</style>\n",
       "<table border=\"1\" class=\"dataframe\">\n",
       "  <thead>\n",
       "    <tr style=\"text-align: right;\">\n",
       "      <th></th>\n",
       "      <th>Pclass</th>\n",
       "      <th>Sex</th>\n",
       "      <th>Age</th>\n",
       "      <th>SibSp</th>\n",
       "      <th>Parch</th>\n",
       "      <th>Fare</th>\n",
       "      <th>Cabin</th>\n",
       "      <th>Embarked</th>\n",
       "      <th>name_cat</th>\n",
       "    </tr>\n",
       "  </thead>\n",
       "  <tbody>\n",
       "    <tr>\n",
       "      <th>0</th>\n",
       "      <td>3</td>\n",
       "      <td>1</td>\n",
       "      <td>22.0</td>\n",
       "      <td>1</td>\n",
       "      <td>0</td>\n",
       "      <td>7.2500</td>\n",
       "      <td>7</td>\n",
       "      <td>3</td>\n",
       "      <td>2</td>\n",
       "    </tr>\n",
       "    <tr>\n",
       "      <th>1</th>\n",
       "      <td>1</td>\n",
       "      <td>0</td>\n",
       "      <td>38.0</td>\n",
       "      <td>1</td>\n",
       "      <td>0</td>\n",
       "      <td>71.2833</td>\n",
       "      <td>2</td>\n",
       "      <td>0</td>\n",
       "      <td>3</td>\n",
       "    </tr>\n",
       "    <tr>\n",
       "      <th>2</th>\n",
       "      <td>3</td>\n",
       "      <td>0</td>\n",
       "      <td>26.0</td>\n",
       "      <td>0</td>\n",
       "      <td>0</td>\n",
       "      <td>7.9250</td>\n",
       "      <td>7</td>\n",
       "      <td>3</td>\n",
       "      <td>1</td>\n",
       "    </tr>\n",
       "    <tr>\n",
       "      <th>3</th>\n",
       "      <td>1</td>\n",
       "      <td>0</td>\n",
       "      <td>35.0</td>\n",
       "      <td>1</td>\n",
       "      <td>0</td>\n",
       "      <td>53.1000</td>\n",
       "      <td>2</td>\n",
       "      <td>3</td>\n",
       "      <td>3</td>\n",
       "    </tr>\n",
       "    <tr>\n",
       "      <th>4</th>\n",
       "      <td>3</td>\n",
       "      <td>1</td>\n",
       "      <td>35.0</td>\n",
       "      <td>0</td>\n",
       "      <td>0</td>\n",
       "      <td>8.0500</td>\n",
       "      <td>7</td>\n",
       "      <td>3</td>\n",
       "      <td>2</td>\n",
       "    </tr>\n",
       "  </tbody>\n",
       "</table>\n",
       "</div>"
      ],
      "text/plain": [
       "   Pclass  Sex   Age  SibSp  Parch     Fare  Cabin  Embarked  name_cat\n",
       "0       3    1  22.0      1      0   7.2500      7         3         2\n",
       "1       1    0  38.0      1      0  71.2833      2         0         3\n",
       "2       3    0  26.0      0      0   7.9250      7         3         1\n",
       "3       1    0  35.0      1      0  53.1000      2         3         3\n",
       "4       3    1  35.0      0      0   8.0500      7         3         2"
      ]
     },
     "execution_count": 277,
     "metadata": {
      "tags": []
     },
     "output_type": "execute_result"
    }
   ],
   "source": [
    "# train 데이터 X,y 나누기\n",
    "\n",
    "y_train = train['Survived']\n",
    "X_train_scaled = train.drop('Survived', axis=1)\n",
    "X_train_scaled.head()"
   ]
  },
  {
   "cell_type": "code",
   "execution_count": null,
   "metadata": {
    "colab": {
     "base_uri": "https://localhost:8080/"
    },
    "executionInfo": {
     "elapsed": 1316,
     "status": "ok",
     "timestamp": 1616484666746,
     "user": {
      "displayName": "[20_H1048F]송나은",
      "photoUrl": "",
      "userId": "17991902901325955099"
     },
     "user_tz": -540
    },
    "id": "acFk-w_vKTzr",
    "outputId": "e75f37ab-98e2-47cd-b12f-1bbe66f901a5"
   },
   "outputs": [
    {
     "data": {
      "text/plain": [
       "(891, 9)"
      ]
     },
     "execution_count": 278,
     "metadata": {
      "tags": []
     },
     "output_type": "execute_result"
    }
   ],
   "source": [
    "X_train_scaled.shape"
   ]
  },
  {
   "cell_type": "code",
   "execution_count": null,
   "metadata": {
    "colab": {
     "base_uri": "https://localhost:8080/"
    },
    "executionInfo": {
     "elapsed": 882,
     "status": "ok",
     "timestamp": 1616484667984,
     "user": {
      "displayName": "[20_H1048F]송나은",
      "photoUrl": "",
      "userId": "17991902901325955099"
     },
     "user_tz": -540
    },
    "id": "PHkZcjqFIRw8",
    "outputId": "0a22a467-37f7-41fd-f66c-58243f424468"
   },
   "outputs": [
    {
     "name": "stdout",
     "output_type": "stream",
     "text": [
      "Model: \"sequential_36\"\n",
      "_________________________________________________________________\n",
      "Layer (type)                 Output Shape              Param #   \n",
      "=================================================================\n",
      "dense_115 (Dense)            (None, 64)                640       \n",
      "_________________________________________________________________\n",
      "dropout_65 (Dropout)         (None, 64)                0         \n",
      "_________________________________________________________________\n",
      "batch_normalization_7 (Batch (None, 64)                256       \n",
      "_________________________________________________________________\n",
      "dense_116 (Dense)            (None, 32)                2080      \n",
      "_________________________________________________________________\n",
      "dropout_66 (Dropout)         (None, 32)                0         \n",
      "_________________________________________________________________\n",
      "dense_117 (Dense)            (None, 1)                 33        \n",
      "=================================================================\n",
      "Total params: 3,009\n",
      "Trainable params: 2,881\n",
      "Non-trainable params: 128\n",
      "_________________________________________________________________\n"
     ]
    }
   ],
   "source": [
    "# 심층 신경망 모델\n",
    "from tensorflow.keras import Sequential\n",
    "from tensorflow.keras.layers import Dense, Dropout, BatchNormalization\n",
    "\n",
    "adam = tf.keras.optimizers.Adam(\n",
    "    learning_rate=0.001\n",
    ")\n",
    "def build_model(train_data, train_target):\n",
    "    model = Sequential()\n",
    "    model.add(Dense(64, activation='relu', input_dim=train_data.shape[1]))\n",
    "    model.add(Dropout(0.5))\n",
    "    model.add(BatchNormalization())\n",
    "    model.add(Dense(32, activation='relu'))\n",
    "    model.add(Dropout(0.5))\n",
    "    # model.add(Dense(16, activation='relu'))\n",
    "    model.add(Dense(1, activation='sigmoid'))\n",
    "    \n",
    "    model.compile(optimizer=adam, loss='binary_crossentropy', metrics=['accuracy'])\n",
    "    \n",
    "    return model\n",
    "\n",
    "model = build_model(X_train_scaled, y_train)\n",
    "model.summary()\n"
   ]
  },
  {
   "cell_type": "code",
   "execution_count": null,
   "metadata": {
    "colab": {
     "base_uri": "https://localhost:8080/"
    },
    "executionInfo": {
     "elapsed": 8683,
     "status": "ok",
     "timestamp": 1616484677283,
     "user": {
      "displayName": "[20_H1048F]송나은",
      "photoUrl": "",
      "userId": "17991902901325955099"
     },
     "user_tz": -540
    },
    "id": "D7JcEYs-KK7o",
    "outputId": "855fdf7b-a14e-4db8-e612-9ff0cffd52ac"
   },
   "outputs": [
    {
     "name": "stdout",
     "output_type": "stream",
     "text": [
      "Epoch 1/500\n",
      "17/17 - 1s - loss: 0.9107 - accuracy: 0.5768 - val_loss: 0.8635 - val_accuracy: 0.6078\n",
      "Epoch 2/500\n",
      "17/17 - 0s - loss: 0.7656 - accuracy: 0.5955 - val_loss: 0.6605 - val_accuracy: 0.6443\n",
      "Epoch 3/500\n",
      "17/17 - 0s - loss: 0.6915 - accuracy: 0.6348 - val_loss: 0.6657 - val_accuracy: 0.6807\n",
      "Epoch 4/500\n",
      "17/17 - 0s - loss: 0.6805 - accuracy: 0.6180 - val_loss: 0.6663 - val_accuracy: 0.6807\n",
      "Epoch 5/500\n",
      "17/17 - 0s - loss: 0.6459 - accuracy: 0.6423 - val_loss: 0.6729 - val_accuracy: 0.6583\n",
      "Epoch 6/500\n",
      "17/17 - 0s - loss: 0.6585 - accuracy: 0.6517 - val_loss: 0.6650 - val_accuracy: 0.6667\n",
      "Epoch 7/500\n",
      "17/17 - 0s - loss: 0.6419 - accuracy: 0.6461 - val_loss: 0.6600 - val_accuracy: 0.6723\n",
      "Epoch 8/500\n",
      "17/17 - 0s - loss: 0.6263 - accuracy: 0.6461 - val_loss: 0.6560 - val_accuracy: 0.6583\n",
      "Epoch 9/500\n",
      "17/17 - 0s - loss: 0.6549 - accuracy: 0.6592 - val_loss: 0.6541 - val_accuracy: 0.6723\n",
      "Epoch 10/500\n",
      "17/17 - 0s - loss: 0.5945 - accuracy: 0.6573 - val_loss: 0.6500 - val_accuracy: 0.6639\n",
      "Epoch 11/500\n",
      "17/17 - 0s - loss: 0.6207 - accuracy: 0.6629 - val_loss: 0.6448 - val_accuracy: 0.6751\n",
      "Epoch 12/500\n",
      "17/17 - 0s - loss: 0.6015 - accuracy: 0.7041 - val_loss: 0.6408 - val_accuracy: 0.6723\n",
      "Epoch 13/500\n",
      "17/17 - 0s - loss: 0.5952 - accuracy: 0.6760 - val_loss: 0.6329 - val_accuracy: 0.6975\n",
      "Epoch 14/500\n",
      "17/17 - 0s - loss: 0.5850 - accuracy: 0.6779 - val_loss: 0.6319 - val_accuracy: 0.6947\n",
      "Epoch 15/500\n",
      "17/17 - 0s - loss: 0.5857 - accuracy: 0.6948 - val_loss: 0.6271 - val_accuracy: 0.7003\n",
      "Epoch 16/500\n",
      "17/17 - 0s - loss: 0.5970 - accuracy: 0.6536 - val_loss: 0.6272 - val_accuracy: 0.6975\n",
      "Epoch 17/500\n",
      "17/17 - 0s - loss: 0.5860 - accuracy: 0.6816 - val_loss: 0.6357 - val_accuracy: 0.6751\n",
      "Epoch 18/500\n",
      "17/17 - 0s - loss: 0.6095 - accuracy: 0.6835 - val_loss: 0.6342 - val_accuracy: 0.7003\n",
      "Epoch 19/500\n",
      "17/17 - 0s - loss: 0.6334 - accuracy: 0.6554 - val_loss: 0.6286 - val_accuracy: 0.7031\n",
      "Epoch 20/500\n",
      "17/17 - 0s - loss: 0.5633 - accuracy: 0.6929 - val_loss: 0.6256 - val_accuracy: 0.7031\n",
      "Epoch 21/500\n",
      "17/17 - 0s - loss: 0.5680 - accuracy: 0.6891 - val_loss: 0.6207 - val_accuracy: 0.7031\n",
      "Epoch 22/500\n",
      "17/17 - 0s - loss: 0.5888 - accuracy: 0.6685 - val_loss: 0.6133 - val_accuracy: 0.7059\n",
      "Epoch 23/500\n",
      "17/17 - 0s - loss: 0.5519 - accuracy: 0.6985 - val_loss: 0.6084 - val_accuracy: 0.7087\n",
      "Epoch 24/500\n",
      "17/17 - 0s - loss: 0.5700 - accuracy: 0.6948 - val_loss: 0.6069 - val_accuracy: 0.7087\n",
      "Epoch 25/500\n",
      "17/17 - 0s - loss: 0.5757 - accuracy: 0.6835 - val_loss: 0.6042 - val_accuracy: 0.7115\n",
      "Epoch 26/500\n",
      "17/17 - 0s - loss: 0.5330 - accuracy: 0.7247 - val_loss: 0.6029 - val_accuracy: 0.7087\n",
      "Epoch 27/500\n",
      "17/17 - 0s - loss: 0.5550 - accuracy: 0.7303 - val_loss: 0.6011 - val_accuracy: 0.7143\n",
      "Epoch 28/500\n",
      "17/17 - 0s - loss: 0.5367 - accuracy: 0.7378 - val_loss: 0.5894 - val_accuracy: 0.7059\n",
      "Epoch 29/500\n",
      "17/17 - 0s - loss: 0.5544 - accuracy: 0.7079 - val_loss: 0.5855 - val_accuracy: 0.7143\n",
      "Epoch 30/500\n",
      "17/17 - 0s - loss: 0.5678 - accuracy: 0.7247 - val_loss: 0.5948 - val_accuracy: 0.7199\n",
      "Epoch 31/500\n",
      "17/17 - 0s - loss: 0.5688 - accuracy: 0.6910 - val_loss: 0.5796 - val_accuracy: 0.7199\n",
      "Epoch 32/500\n",
      "17/17 - 0s - loss: 0.5641 - accuracy: 0.7397 - val_loss: 0.5818 - val_accuracy: 0.7283\n",
      "Epoch 33/500\n",
      "17/17 - 0s - loss: 0.5346 - accuracy: 0.7154 - val_loss: 0.5784 - val_accuracy: 0.7227\n",
      "Epoch 34/500\n",
      "17/17 - 0s - loss: 0.5625 - accuracy: 0.6891 - val_loss: 0.5886 - val_accuracy: 0.7171\n",
      "Epoch 35/500\n",
      "17/17 - 0s - loss: 0.5376 - accuracy: 0.7453 - val_loss: 0.5713 - val_accuracy: 0.7059\n",
      "Epoch 36/500\n",
      "17/17 - 0s - loss: 0.5339 - accuracy: 0.7247 - val_loss: 0.5858 - val_accuracy: 0.7311\n",
      "Epoch 37/500\n",
      "17/17 - 0s - loss: 0.5373 - accuracy: 0.7266 - val_loss: 0.5656 - val_accuracy: 0.7283\n",
      "Epoch 38/500\n",
      "17/17 - 0s - loss: 0.5384 - accuracy: 0.7360 - val_loss: 0.5724 - val_accuracy: 0.7311\n",
      "Epoch 39/500\n",
      "17/17 - 0s - loss: 0.5427 - accuracy: 0.7060 - val_loss: 0.5724 - val_accuracy: 0.7395\n",
      "Epoch 40/500\n",
      "17/17 - 0s - loss: 0.5230 - accuracy: 0.7584 - val_loss: 0.5637 - val_accuracy: 0.7339\n",
      "Epoch 41/500\n",
      "17/17 - 0s - loss: 0.5411 - accuracy: 0.6966 - val_loss: 0.5627 - val_accuracy: 0.7339\n",
      "Epoch 42/500\n",
      "17/17 - 0s - loss: 0.5173 - accuracy: 0.7416 - val_loss: 0.5645 - val_accuracy: 0.7423\n",
      "Epoch 43/500\n",
      "17/17 - 0s - loss: 0.5462 - accuracy: 0.7322 - val_loss: 0.5705 - val_accuracy: 0.7451\n",
      "Epoch 44/500\n",
      "17/17 - 0s - loss: 0.5328 - accuracy: 0.7622 - val_loss: 0.5664 - val_accuracy: 0.7423\n",
      "Epoch 45/500\n",
      "17/17 - 0s - loss: 0.5249 - accuracy: 0.7285 - val_loss: 0.5721 - val_accuracy: 0.7479\n",
      "Epoch 46/500\n",
      "17/17 - 0s - loss: 0.4866 - accuracy: 0.7603 - val_loss: 0.5643 - val_accuracy: 0.7339\n",
      "Epoch 47/500\n",
      "17/17 - 0s - loss: 0.5213 - accuracy: 0.7303 - val_loss: 0.5625 - val_accuracy: 0.7367\n",
      "Epoch 48/500\n",
      "17/17 - 0s - loss: 0.5074 - accuracy: 0.7566 - val_loss: 0.5597 - val_accuracy: 0.7367\n",
      "Epoch 49/500\n",
      "17/17 - 0s - loss: 0.5333 - accuracy: 0.7322 - val_loss: 0.5560 - val_accuracy: 0.7339\n",
      "Epoch 50/500\n",
      "17/17 - 0s - loss: 0.5097 - accuracy: 0.7584 - val_loss: 0.5429 - val_accuracy: 0.7591\n",
      "Epoch 51/500\n",
      "17/17 - 0s - loss: 0.5257 - accuracy: 0.7285 - val_loss: 0.5404 - val_accuracy: 0.7479\n",
      "Epoch 52/500\n",
      "17/17 - 0s - loss: 0.5191 - accuracy: 0.7640 - val_loss: 0.5622 - val_accuracy: 0.7395\n",
      "Epoch 53/500\n",
      "17/17 - 0s - loss: 0.5203 - accuracy: 0.7285 - val_loss: 0.5525 - val_accuracy: 0.7339\n",
      "Epoch 54/500\n",
      "17/17 - 0s - loss: 0.5121 - accuracy: 0.7603 - val_loss: 0.5438 - val_accuracy: 0.7479\n",
      "Epoch 55/500\n",
      "17/17 - 0s - loss: 0.5117 - accuracy: 0.7509 - val_loss: 0.5448 - val_accuracy: 0.7479\n",
      "Epoch 56/500\n",
      "17/17 - 0s - loss: 0.5152 - accuracy: 0.7640 - val_loss: 0.5430 - val_accuracy: 0.7479\n",
      "Epoch 57/500\n",
      "17/17 - 0s - loss: 0.5122 - accuracy: 0.7584 - val_loss: 0.5440 - val_accuracy: 0.7479\n",
      "Epoch 58/500\n",
      "17/17 - 0s - loss: 0.5215 - accuracy: 0.7622 - val_loss: 0.5401 - val_accuracy: 0.7283\n",
      "Epoch 59/500\n",
      "17/17 - 0s - loss: 0.4930 - accuracy: 0.7491 - val_loss: 0.5480 - val_accuracy: 0.7367\n",
      "Epoch 60/500\n",
      "17/17 - 0s - loss: 0.5241 - accuracy: 0.7566 - val_loss: 0.5333 - val_accuracy: 0.7451\n",
      "Epoch 61/500\n",
      "17/17 - 0s - loss: 0.5171 - accuracy: 0.7640 - val_loss: 0.5378 - val_accuracy: 0.7311\n",
      "Epoch 62/500\n",
      "17/17 - 0s - loss: 0.5186 - accuracy: 0.7678 - val_loss: 0.5490 - val_accuracy: 0.7479\n",
      "Epoch 63/500\n",
      "17/17 - 0s - loss: 0.5095 - accuracy: 0.7566 - val_loss: 0.5364 - val_accuracy: 0.7535\n",
      "Epoch 64/500\n",
      "17/17 - 0s - loss: 0.5113 - accuracy: 0.7509 - val_loss: 0.5398 - val_accuracy: 0.7395\n",
      "Epoch 65/500\n",
      "17/17 - 0s - loss: 0.4970 - accuracy: 0.7940 - val_loss: 0.5419 - val_accuracy: 0.7423\n",
      "Epoch 66/500\n",
      "17/17 - 0s - loss: 0.4941 - accuracy: 0.7697 - val_loss: 0.5356 - val_accuracy: 0.7535\n",
      "Epoch 67/500\n",
      "17/17 - 0s - loss: 0.4637 - accuracy: 0.7903 - val_loss: 0.5349 - val_accuracy: 0.7479\n",
      "Epoch 68/500\n",
      "17/17 - 0s - loss: 0.4468 - accuracy: 0.8015 - val_loss: 0.5443 - val_accuracy: 0.7423\n",
      "Epoch 69/500\n",
      "17/17 - 0s - loss: 0.4834 - accuracy: 0.7978 - val_loss: 0.5385 - val_accuracy: 0.7367\n",
      "Epoch 70/500\n",
      "17/17 - 0s - loss: 0.4704 - accuracy: 0.7978 - val_loss: 0.5379 - val_accuracy: 0.7367\n",
      "12/12 [==============================] - 0s 1ms/step - loss: 0.5379 - accuracy: 0.7367\n"
     ]
    },
    {
     "data": {
      "text/plain": [
       "[0.5378724932670593, 0.7366946935653687]"
      ]
     },
     "execution_count": 280,
     "metadata": {
      "tags": []
     },
     "output_type": "execute_result"
    }
   ],
   "source": [
    "# 콜백 함수 - Early Stopping 기법\n",
    "from sklearn.model_selection import train_test_split\n",
    "from tensorflow.keras.callbacks import EarlyStopping\n",
    "\n",
    "X_tr, X_val, y_tr, y_val = train_test_split(X_train_scaled, y_train\n",
    "                                            , test_size=0.4\n",
    "                                            , shuffle=True\n",
    "                                            , random_state=SEED)\n",
    "EPOCHS = 500\n",
    "early_stopping = EarlyStopping(monitor='val_loss', patience=10)\n",
    "history = model.fit(X_tr, y_tr\n",
    "                    , batch_size=32\n",
    "                    , epochs=EPOCHS\n",
    "                    # , callbacks=[early_stopping]\n",
    "                    , validation_data=(X_val, y_val),verbose=2)\n",
    "                    \n",
    "model.evaluate(X_val, y_val)\n",
    "\n",
    "accuracy = history.history['accuracy']\n",
    "val_accuracy = history.history['val_accuracy']\n",
    "\n",
    "loss=history.history['loss']\n",
    "val_loss=history.history['val_loss']\n",
    "\n",
    "epochs_range = range(EPOCHS)\n",
    "\n",
    "plt.figure(figsize=(16, 8))\n",
    "plt.subplot(1, 2, 1)\n",
    "plt.plot(epochs_range, accuracy, label='Training Accuracy')\n",
    "plt.plot(epochs_range, val_accuracy, label='Validation Accuracy')\n",
    "plt.legend(loc='lower right')\n",
    "plt.title('Training and Validation Accuracy')\n",
    "\n",
    "plt.subplot(1, 2, 2)\n",
    "plt.plot(epochs_range, loss, label='Training Loss')\n",
    "plt.plot(epochs_range, val_loss, label='Validation Loss')\n",
    "plt.legend(loc='upper right')\n",
    "plt.title('Training and Validation Loss')\n",
    "plt.show()"
   ]
  },
  {
   "cell_type": "code",
   "execution_count": null,
   "metadata": {
    "colab": {
     "base_uri": "https://localhost:8080/",
     "height": 197
    },
    "executionInfo": {
     "elapsed": 1157,
     "status": "ok",
     "timestamp": 1616484680215,
     "user": {
      "displayName": "[20_H1048F]송나은",
      "photoUrl": "",
      "userId": "17991902901325955099"
     },
     "user_tz": -540
    },
    "id": "Esdlp7SfL-zD",
    "outputId": "bb7a3ab1-2750-45b8-c3c7-3d82df6590bb"
   },
   "outputs": [
    {
     "data": {
      "text/html": [
       "<div>\n",
       "<style scoped>\n",
       "    .dataframe tbody tr th:only-of-type {\n",
       "        vertical-align: middle;\n",
       "    }\n",
       "\n",
       "    .dataframe tbody tr th {\n",
       "        vertical-align: top;\n",
       "    }\n",
       "\n",
       "    .dataframe thead th {\n",
       "        text-align: right;\n",
       "    }\n",
       "</style>\n",
       "<table border=\"1\" class=\"dataframe\">\n",
       "  <thead>\n",
       "    <tr style=\"text-align: right;\">\n",
       "      <th></th>\n",
       "      <th>Pclass</th>\n",
       "      <th>Sex</th>\n",
       "      <th>Age</th>\n",
       "      <th>SibSp</th>\n",
       "      <th>Parch</th>\n",
       "      <th>Fare</th>\n",
       "      <th>Cabin</th>\n",
       "      <th>Embarked</th>\n",
       "      <th>name_cat</th>\n",
       "    </tr>\n",
       "  </thead>\n",
       "  <tbody>\n",
       "    <tr>\n",
       "      <th>0</th>\n",
       "      <td>3</td>\n",
       "      <td>1</td>\n",
       "      <td>34.5</td>\n",
       "      <td>0</td>\n",
       "      <td>0</td>\n",
       "      <td>7.8292</td>\n",
       "      <td>7</td>\n",
       "      <td>1</td>\n",
       "      <td>2</td>\n",
       "    </tr>\n",
       "    <tr>\n",
       "      <th>1</th>\n",
       "      <td>3</td>\n",
       "      <td>0</td>\n",
       "      <td>47.0</td>\n",
       "      <td>1</td>\n",
       "      <td>0</td>\n",
       "      <td>7.0000</td>\n",
       "      <td>7</td>\n",
       "      <td>2</td>\n",
       "      <td>3</td>\n",
       "    </tr>\n",
       "    <tr>\n",
       "      <th>2</th>\n",
       "      <td>2</td>\n",
       "      <td>1</td>\n",
       "      <td>62.0</td>\n",
       "      <td>0</td>\n",
       "      <td>0</td>\n",
       "      <td>9.6875</td>\n",
       "      <td>7</td>\n",
       "      <td>1</td>\n",
       "      <td>2</td>\n",
       "    </tr>\n",
       "    <tr>\n",
       "      <th>3</th>\n",
       "      <td>3</td>\n",
       "      <td>1</td>\n",
       "      <td>27.0</td>\n",
       "      <td>0</td>\n",
       "      <td>0</td>\n",
       "      <td>8.6625</td>\n",
       "      <td>7</td>\n",
       "      <td>2</td>\n",
       "      <td>2</td>\n",
       "    </tr>\n",
       "    <tr>\n",
       "      <th>4</th>\n",
       "      <td>3</td>\n",
       "      <td>0</td>\n",
       "      <td>22.0</td>\n",
       "      <td>1</td>\n",
       "      <td>1</td>\n",
       "      <td>12.2875</td>\n",
       "      <td>7</td>\n",
       "      <td>2</td>\n",
       "      <td>3</td>\n",
       "    </tr>\n",
       "  </tbody>\n",
       "</table>\n",
       "</div>"
      ],
      "text/plain": [
       "   Pclass  Sex   Age  SibSp  Parch     Fare  Cabin  Embarked  name_cat\n",
       "0       3    1  34.5      0      0   7.8292      7         1         2\n",
       "1       3    0  47.0      1      0   7.0000      7         2         3\n",
       "2       2    1  62.0      0      0   9.6875      7         1         2\n",
       "3       3    1  27.0      0      0   8.6625      7         2         2\n",
       "4       3    0  22.0      1      1  12.2875      7         2         3"
      ]
     },
     "execution_count": 281,
     "metadata": {
      "tags": []
     },
     "output_type": "execute_result"
    }
   ],
   "source": [
    "X_test = test\n",
    "X_test.head()"
   ]
  },
  {
   "cell_type": "code",
   "execution_count": null,
   "metadata": {
    "colab": {
     "base_uri": "https://localhost:8080/",
     "height": 947
    },
    "executionInfo": {
     "elapsed": 1073,
     "status": "ok",
     "timestamp": 1616484681755,
     "user": {
      "displayName": "[20_H1048F]송나은",
      "photoUrl": "",
      "userId": "17991902901325955099"
     },
     "user_tz": -540
    },
    "id": "EDmA_o5cKejb",
    "outputId": "bc977d3d-2bf8-4147-f33a-16b619199742"
   },
   "outputs": [
    {
     "data": {
      "text/html": [
       "<div>\n",
       "<style scoped>\n",
       "    .dataframe tbody tr th:only-of-type {\n",
       "        vertical-align: middle;\n",
       "    }\n",
       "\n",
       "    .dataframe tbody tr th {\n",
       "        vertical-align: top;\n",
       "    }\n",
       "\n",
       "    .dataframe thead th {\n",
       "        text-align: right;\n",
       "    }\n",
       "</style>\n",
       "<table border=\"1\" class=\"dataframe\">\n",
       "  <thead>\n",
       "    <tr style=\"text-align: right;\">\n",
       "      <th></th>\n",
       "      <th>Survived</th>\n",
       "    </tr>\n",
       "  </thead>\n",
       "  <tbody>\n",
       "    <tr>\n",
       "      <th>0</th>\n",
       "      <td>0</td>\n",
       "    </tr>\n",
       "    <tr>\n",
       "      <th>1</th>\n",
       "      <td>0</td>\n",
       "    </tr>\n",
       "    <tr>\n",
       "      <th>2</th>\n",
       "      <td>0</td>\n",
       "    </tr>\n",
       "    <tr>\n",
       "      <th>3</th>\n",
       "      <td>0</td>\n",
       "    </tr>\n",
       "    <tr>\n",
       "      <th>4</th>\n",
       "      <td>1</td>\n",
       "    </tr>\n",
       "    <tr>\n",
       "      <th>5</th>\n",
       "      <td>0</td>\n",
       "    </tr>\n",
       "    <tr>\n",
       "      <th>6</th>\n",
       "      <td>1</td>\n",
       "    </tr>\n",
       "    <tr>\n",
       "      <th>7</th>\n",
       "      <td>0</td>\n",
       "    </tr>\n",
       "    <tr>\n",
       "      <th>8</th>\n",
       "      <td>1</td>\n",
       "    </tr>\n",
       "    <tr>\n",
       "      <th>9</th>\n",
       "      <td>0</td>\n",
       "    </tr>\n",
       "    <tr>\n",
       "      <th>10</th>\n",
       "      <td>0</td>\n",
       "    </tr>\n",
       "    <tr>\n",
       "      <th>11</th>\n",
       "      <td>0</td>\n",
       "    </tr>\n",
       "    <tr>\n",
       "      <th>12</th>\n",
       "      <td>1</td>\n",
       "    </tr>\n",
       "    <tr>\n",
       "      <th>13</th>\n",
       "      <td>0</td>\n",
       "    </tr>\n",
       "    <tr>\n",
       "      <th>14</th>\n",
       "      <td>1</td>\n",
       "    </tr>\n",
       "    <tr>\n",
       "      <th>15</th>\n",
       "      <td>1</td>\n",
       "    </tr>\n",
       "    <tr>\n",
       "      <th>16</th>\n",
       "      <td>0</td>\n",
       "    </tr>\n",
       "    <tr>\n",
       "      <th>17</th>\n",
       "      <td>0</td>\n",
       "    </tr>\n",
       "    <tr>\n",
       "      <th>18</th>\n",
       "      <td>1</td>\n",
       "    </tr>\n",
       "    <tr>\n",
       "      <th>19</th>\n",
       "      <td>0</td>\n",
       "    </tr>\n",
       "    <tr>\n",
       "      <th>20</th>\n",
       "      <td>0</td>\n",
       "    </tr>\n",
       "    <tr>\n",
       "      <th>21</th>\n",
       "      <td>0</td>\n",
       "    </tr>\n",
       "    <tr>\n",
       "      <th>22</th>\n",
       "      <td>1</td>\n",
       "    </tr>\n",
       "    <tr>\n",
       "      <th>23</th>\n",
       "      <td>1</td>\n",
       "    </tr>\n",
       "    <tr>\n",
       "      <th>24</th>\n",
       "      <td>1</td>\n",
       "    </tr>\n",
       "    <tr>\n",
       "      <th>25</th>\n",
       "      <td>0</td>\n",
       "    </tr>\n",
       "    <tr>\n",
       "      <th>26</th>\n",
       "      <td>1</td>\n",
       "    </tr>\n",
       "    <tr>\n",
       "      <th>27</th>\n",
       "      <td>0</td>\n",
       "    </tr>\n",
       "    <tr>\n",
       "      <th>28</th>\n",
       "      <td>1</td>\n",
       "    </tr>\n",
       "    <tr>\n",
       "      <th>29</th>\n",
       "      <td>0</td>\n",
       "    </tr>\n",
       "  </tbody>\n",
       "</table>\n",
       "</div>"
      ],
      "text/plain": [
       "    Survived\n",
       "0          0\n",
       "1          0\n",
       "2          0\n",
       "3          0\n",
       "4          1\n",
       "5          0\n",
       "6          1\n",
       "7          0\n",
       "8          1\n",
       "9          0\n",
       "10         0\n",
       "11         0\n",
       "12         1\n",
       "13         0\n",
       "14         1\n",
       "15         1\n",
       "16         0\n",
       "17         0\n",
       "18         1\n",
       "19         0\n",
       "20         0\n",
       "21         0\n",
       "22         1\n",
       "23         1\n",
       "24         1\n",
       "25         0\n",
       "26         1\n",
       "27         0\n",
       "28         1\n",
       "29         0"
      ]
     },
     "execution_count": 282,
     "metadata": {
      "tags": []
     },
     "output_type": "execute_result"
    }
   ],
   "source": [
    "# test 데이터에 대한 예측값 정리\n",
    "y_pred_proba = model.predict(X_test)\n",
    "y_pred_proba\n",
    "\n",
    "y_pred_label = np.around(y_pred_proba)\n",
    "\n",
    "df = pd.DataFrame(y_pred_label.astype(int),columns=[\"Survived\"])\n",
    "df.head(30)"
   ]
  },
  {
   "cell_type": "code",
   "execution_count": null,
   "metadata": {
    "colab": {
     "base_uri": "https://localhost:8080/",
     "height": 197
    },
    "executionInfo": {
     "elapsed": 1217,
     "status": "ok",
     "timestamp": 1616484683455,
     "user": {
      "displayName": "[20_H1048F]송나은",
      "photoUrl": "",
      "userId": "17991902901325955099"
     },
     "user_tz": -540
    },
    "id": "zh4EktNWMPL9",
    "outputId": "f666739a-913d-4320-ae28-b92ae1c56d7f"
   },
   "outputs": [
    {
     "data": {
      "text/html": [
       "<div>\n",
       "<style scoped>\n",
       "    .dataframe tbody tr th:only-of-type {\n",
       "        vertical-align: middle;\n",
       "    }\n",
       "\n",
       "    .dataframe tbody tr th {\n",
       "        vertical-align: top;\n",
       "    }\n",
       "\n",
       "    .dataframe thead th {\n",
       "        text-align: right;\n",
       "    }\n",
       "</style>\n",
       "<table border=\"1\" class=\"dataframe\">\n",
       "  <thead>\n",
       "    <tr style=\"text-align: right;\">\n",
       "      <th></th>\n",
       "      <th>PassengerId</th>\n",
       "      <th>Pclass</th>\n",
       "      <th>Name</th>\n",
       "      <th>Sex</th>\n",
       "      <th>Age</th>\n",
       "      <th>SibSp</th>\n",
       "      <th>Parch</th>\n",
       "      <th>Ticket</th>\n",
       "      <th>Fare</th>\n",
       "      <th>Cabin</th>\n",
       "      <th>Embarked</th>\n",
       "    </tr>\n",
       "  </thead>\n",
       "  <tbody>\n",
       "    <tr>\n",
       "      <th>0</th>\n",
       "      <td>892</td>\n",
       "      <td>3</td>\n",
       "      <td>Kelly, Mr. James</td>\n",
       "      <td>male</td>\n",
       "      <td>34.5</td>\n",
       "      <td>0</td>\n",
       "      <td>0</td>\n",
       "      <td>330911</td>\n",
       "      <td>7.8292</td>\n",
       "      <td>NaN</td>\n",
       "      <td>Q</td>\n",
       "    </tr>\n",
       "    <tr>\n",
       "      <th>1</th>\n",
       "      <td>893</td>\n",
       "      <td>3</td>\n",
       "      <td>Wilkes, Mrs. James (Ellen Needs)</td>\n",
       "      <td>female</td>\n",
       "      <td>47.0</td>\n",
       "      <td>1</td>\n",
       "      <td>0</td>\n",
       "      <td>363272</td>\n",
       "      <td>7.0000</td>\n",
       "      <td>NaN</td>\n",
       "      <td>S</td>\n",
       "    </tr>\n",
       "    <tr>\n",
       "      <th>2</th>\n",
       "      <td>894</td>\n",
       "      <td>2</td>\n",
       "      <td>Myles, Mr. Thomas Francis</td>\n",
       "      <td>male</td>\n",
       "      <td>62.0</td>\n",
       "      <td>0</td>\n",
       "      <td>0</td>\n",
       "      <td>240276</td>\n",
       "      <td>9.6875</td>\n",
       "      <td>NaN</td>\n",
       "      <td>Q</td>\n",
       "    </tr>\n",
       "    <tr>\n",
       "      <th>3</th>\n",
       "      <td>895</td>\n",
       "      <td>3</td>\n",
       "      <td>Wirz, Mr. Albert</td>\n",
       "      <td>male</td>\n",
       "      <td>27.0</td>\n",
       "      <td>0</td>\n",
       "      <td>0</td>\n",
       "      <td>315154</td>\n",
       "      <td>8.6625</td>\n",
       "      <td>NaN</td>\n",
       "      <td>S</td>\n",
       "    </tr>\n",
       "    <tr>\n",
       "      <th>4</th>\n",
       "      <td>896</td>\n",
       "      <td>3</td>\n",
       "      <td>Hirvonen, Mrs. Alexander (Helga E Lindqvist)</td>\n",
       "      <td>female</td>\n",
       "      <td>22.0</td>\n",
       "      <td>1</td>\n",
       "      <td>1</td>\n",
       "      <td>3101298</td>\n",
       "      <td>12.2875</td>\n",
       "      <td>NaN</td>\n",
       "      <td>S</td>\n",
       "    </tr>\n",
       "  </tbody>\n",
       "</table>\n",
       "</div>"
      ],
      "text/plain": [
       "   PassengerId  Pclass  ... Cabin Embarked\n",
       "0          892       3  ...   NaN        Q\n",
       "1          893       3  ...   NaN        S\n",
       "2          894       2  ...   NaN        Q\n",
       "3          895       3  ...   NaN        S\n",
       "4          896       3  ...   NaN        S\n",
       "\n",
       "[5 rows x 11 columns]"
      ]
     },
     "execution_count": 283,
     "metadata": {
      "tags": []
     },
     "output_type": "execute_result"
    }
   ],
   "source": [
    "test_new_df = pd.read_csv(drive_path + '/test.csv')\n",
    "test_new_df.head()"
   ]
  },
  {
   "cell_type": "code",
   "execution_count": null,
   "metadata": {
    "colab": {
     "base_uri": "https://localhost:8080/",
     "height": 406
    },
    "executionInfo": {
     "elapsed": 1307,
     "status": "ok",
     "timestamp": 1616484684068,
     "user": {
      "displayName": "[20_H1048F]송나은",
      "photoUrl": "",
      "userId": "17991902901325955099"
     },
     "user_tz": -540
    },
    "id": "JzHdktoTRAXE",
    "outputId": "4603b82e-1e38-4672-f7c2-ce686df9600e"
   },
   "outputs": [
    {
     "data": {
      "text/html": [
       "<div>\n",
       "<style scoped>\n",
       "    .dataframe tbody tr th:only-of-type {\n",
       "        vertical-align: middle;\n",
       "    }\n",
       "\n",
       "    .dataframe tbody tr th {\n",
       "        vertical-align: top;\n",
       "    }\n",
       "\n",
       "    .dataframe thead th {\n",
       "        text-align: right;\n",
       "    }\n",
       "</style>\n",
       "<table border=\"1\" class=\"dataframe\">\n",
       "  <thead>\n",
       "    <tr style=\"text-align: right;\">\n",
       "      <th></th>\n",
       "      <th>PassengerId</th>\n",
       "      <th>Survived</th>\n",
       "    </tr>\n",
       "  </thead>\n",
       "  <tbody>\n",
       "    <tr>\n",
       "      <th>0</th>\n",
       "      <td>892</td>\n",
       "      <td>0</td>\n",
       "    </tr>\n",
       "    <tr>\n",
       "      <th>1</th>\n",
       "      <td>893</td>\n",
       "      <td>0</td>\n",
       "    </tr>\n",
       "    <tr>\n",
       "      <th>2</th>\n",
       "      <td>894</td>\n",
       "      <td>0</td>\n",
       "    </tr>\n",
       "    <tr>\n",
       "      <th>3</th>\n",
       "      <td>895</td>\n",
       "      <td>0</td>\n",
       "    </tr>\n",
       "    <tr>\n",
       "      <th>4</th>\n",
       "      <td>896</td>\n",
       "      <td>1</td>\n",
       "    </tr>\n",
       "    <tr>\n",
       "      <th>...</th>\n",
       "      <td>...</td>\n",
       "      <td>...</td>\n",
       "    </tr>\n",
       "    <tr>\n",
       "      <th>413</th>\n",
       "      <td>1305</td>\n",
       "      <td>0</td>\n",
       "    </tr>\n",
       "    <tr>\n",
       "      <th>414</th>\n",
       "      <td>1306</td>\n",
       "      <td>1</td>\n",
       "    </tr>\n",
       "    <tr>\n",
       "      <th>415</th>\n",
       "      <td>1307</td>\n",
       "      <td>0</td>\n",
       "    </tr>\n",
       "    <tr>\n",
       "      <th>416</th>\n",
       "      <td>1308</td>\n",
       "      <td>0</td>\n",
       "    </tr>\n",
       "    <tr>\n",
       "      <th>417</th>\n",
       "      <td>1309</td>\n",
       "      <td>0</td>\n",
       "    </tr>\n",
       "  </tbody>\n",
       "</table>\n",
       "<p>418 rows × 2 columns</p>\n",
       "</div>"
      ],
      "text/plain": [
       "     PassengerId  Survived\n",
       "0            892         0\n",
       "1            893         0\n",
       "2            894         0\n",
       "3            895         0\n",
       "4            896         1\n",
       "..           ...       ...\n",
       "413         1305         0\n",
       "414         1306         1\n",
       "415         1307         0\n",
       "416         1308         0\n",
       "417         1309         0\n",
       "\n",
       "[418 rows x 2 columns]"
      ]
     },
     "execution_count": 284,
     "metadata": {
      "tags": []
     },
     "output_type": "execute_result"
    }
   ],
   "source": [
    "result = pd.concat([test_new_df['PassengerId'], df], axis=1)\n",
    "result"
   ]
  },
  {
   "cell_type": "code",
   "execution_count": null,
   "metadata": {
    "id": "lJu4-kFxRSGw"
   },
   "outputs": [],
   "source": [
    "result.to_csv('NN-basic-batchNormalization_earlystop_new.csv', index=False)"
   ]
  },
  {
   "cell_type": "code",
   "execution_count": null,
   "metadata": {
    "id": "4aE21syeRWnx"
   },
   "outputs": [],
   "source": []
  }
 ],
 "metadata": {
  "colab": {
   "authorship_tag": "ABX9TyNcRXh92PUj7kr8tTmISTBD",
   "collapsed_sections": [],
   "name": "01.Titanic-DNN-78.4%.ipynb",
   "provenance": []
  },
  "kernelspec": {
   "display_name": "Python 3",
   "language": "python",
   "name": "python3"
  },
  "language_info": {
   "codemirror_mode": {
    "name": "ipython",
    "version": 3
   },
   "file_extension": ".py",
   "mimetype": "text/x-python",
   "name": "python",
   "nbconvert_exporter": "python",
   "pygments_lexer": "ipython3",
   "version": "3.7.7"
  }
 },
 "nbformat": 4,
 "nbformat_minor": 1
}
